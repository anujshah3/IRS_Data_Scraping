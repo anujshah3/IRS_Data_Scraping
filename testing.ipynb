{
 "cells": [
  {
   "cell_type": "code",
   "execution_count": 1,
   "metadata": {
    "collapsed": true
   },
   "outputs": [
    {
     "name": "stdout",
     "output_type": "stream",
     "text": [
      "Name: Item 1, Description: This is item 1.\n",
      "Name: Item 2, Description: This is item 2.\n"
     ]
    }
   ],
   "source": [
    "import xml.etree.ElementTree as ET\n",
    "\n",
    "# Example XML API response\n",
    "api_response = \"\"\"\n",
    "<response>\n",
    "  <item>\n",
    "    <name>Item 1</name>\n",
    "    <description>This is item 1.</description>\n",
    "  </item>\n",
    "  <item>\n",
    "    <name>Item 2</name>\n",
    "    <description>This is item 2.</description>\n",
    "  </item>\n",
    "</response>\n",
    "\"\"\"\n",
    "\n",
    "# Parse the XML using ElementTree\n",
    "root = ET.fromstring(api_response)\n",
    "\n",
    "# Extract the information you need\n",
    "for item in root.findall('item'):\n",
    "    name = item.find('name').text\n",
    "    description = item.find('description').text\n",
    "    print(f\"Name: {name}, Description: {description}\")"
   ]
  },
  {
   "cell_type": "code",
   "execution_count": null,
   "outputs": [],
   "source": [],
   "metadata": {
    "collapsed": false
   }
  }
 ],
 "metadata": {
  "kernelspec": {
   "display_name": "Python 3",
   "language": "python",
   "name": "python3"
  },
  "language_info": {
   "codemirror_mode": {
    "name": "ipython",
    "version": 2
   },
   "file_extension": ".py",
   "mimetype": "text/x-python",
   "name": "python",
   "nbconvert_exporter": "python",
   "pygments_lexer": "ipython2",
   "version": "2.7.6"
  }
 },
 "nbformat": 4,
 "nbformat_minor": 0
}
